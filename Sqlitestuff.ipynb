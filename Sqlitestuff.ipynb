{
 "cells": [
  {
   "cell_type": "code",
   "execution_count": 1,
   "id": "initial_id",
   "metadata": {
    "collapsed": true,
    "ExecuteTime": {
     "end_time": "2024-03-18T13:27:45.055546Z",
     "start_time": "2024-03-18T13:27:45.049670Z"
    }
   },
   "outputs": [],
   "source": [
    "import sqlite3\n",
    "from sqlite3 import Error"
   ]
  },
  {
   "cell_type": "code",
   "outputs": [],
   "source": [
    "conn = None\n",
    "try:\n",
    "    conn = sqlite3.connect(\"lyrics.db\")\n",
    "except Error as e:\n",
    "    print(e)\n",
    "finally:\n",
    "    if conn:\n",
    "        conn.close()"
   ],
   "metadata": {
    "collapsed": false,
    "ExecuteTime": {
     "end_time": "2024-03-18T13:28:39.957237Z",
     "start_time": "2024-03-18T13:28:39.953208Z"
    }
   },
   "id": "609c6b8f6e83399c",
   "execution_count": 2
  },
  {
   "cell_type": "code",
   "outputs": [],
   "source": [
    "conn = sqlite3.connect(\"lyrics.db\")\n",
    "create_table = \"\"\"CREATE TABLE IF NOT EXISTS lyrics (\n",
    "id integer PRIMARY KEY,\n",
    "title text NOT NULL,\n",
    "artist text NOT NULL,\n",
    "album text NOT NULL,\n",
    "duration int NOT NULL,\n",
    "synced int NOT NULL,\n",
    "lyrics text NOT NULL\n",
    ");\n",
    "\"\"\"\n",
    "c = conn.cursor()\n",
    "c.execute(create_table)\n",
    "conn.close()"
   ],
   "metadata": {
    "collapsed": false,
    "ExecuteTime": {
     "end_time": "2024-03-18T13:34:25.247246Z",
     "start_time": "2024-03-18T13:34:25.241543Z"
    }
   },
   "id": "bab6b14dd14c0ef7",
   "execution_count": 6
  },
  {
   "cell_type": "code",
   "outputs": [],
   "source": [
    "conn = sqlite3.connect(\"lyrics.db\")\n",
    "conn.cursor().execute(\"DROP TABLE lyrics\")\n",
    "conn.close()\n"
   ],
   "metadata": {
    "collapsed": false,
    "ExecuteTime": {
     "end_time": "2024-03-18T13:33:15.340527Z",
     "start_time": "2024-03-18T13:33:15.332083Z"
    }
   },
   "id": "a2f95ea84150ae54",
   "execution_count": 5
  }
 ],
 "metadata": {
  "kernelspec": {
   "display_name": "Python 3",
   "language": "python",
   "name": "python3"
  },
  "language_info": {
   "codemirror_mode": {
    "name": "ipython",
    "version": 2
   },
   "file_extension": ".py",
   "mimetype": "text/x-python",
   "name": "python",
   "nbconvert_exporter": "python",
   "pygments_lexer": "ipython2",
   "version": "2.7.6"
  }
 },
 "nbformat": 4,
 "nbformat_minor": 5
}
